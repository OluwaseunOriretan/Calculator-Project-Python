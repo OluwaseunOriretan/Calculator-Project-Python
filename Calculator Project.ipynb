{
 "cells": [
  {
   "cell_type": "markdown",
   "id": "01778ea4",
   "metadata": {},
   "source": [
    "Calculator"
   ]
  },
  {
   "cell_type": "code",
   "execution_count": 1,
   "id": "a6911ceb",
   "metadata": {},
   "outputs": [],
   "source": [
    "def add(x,y):\n",
    "    return x + y\n",
    "\n",
    "\n",
    "def subtract(x,y):\n",
    "    return x - y\n",
    "\n",
    "\n",
    "\n",
    "def multiply(x,y):\n",
    "    return x * y\n",
    "\n",
    "\n",
    "\n",
    "def divide(x,y):\n",
    "    return x / y\n",
    "\n",
    "\n"
   ]
  },
  {
   "cell_type": "code",
   "execution_count": null,
   "id": "b85a984b",
   "metadata": {},
   "outputs": [],
   "source": [
    "choice = input('Enter Choice: (Add, Substract, Multiply, Divide): ')\n",
    "\n",
    "\n",
    "num1 = float(input('Enter First Number: '))\n",
    "\n",
    "num2 = float(input('Enter Second Number: '))"
   ]
  },
  {
   "cell_type": "code",
   "execution_count": 2,
   "id": "ec754fdc",
   "metadata": {},
   "outputs": [
    {
     "name": "stdout",
     "output_type": "stream",
     "text": [
      "Enter Choice: (Add, Subtract, Multiply, Divide): Add\n",
      "Enter First Number: 30\n",
      "Enter Second Number: 40\n",
      "Result:  30.0 + 40.0 = 70.0\n",
      "Want to do another calculation? (yes/no): no\n"
     ]
    }
   ],
   "source": [
    "\n",
    "while True:\n",
    "    choice = input('Enter Choice: (Add, Subtract, Multiply, Divide): ')\n",
    "    if choice in ('Add', 'Subtract', 'Multiply', 'Divide'):\n",
    "        num1 = float(input('Enter First Number: '))\n",
    "        num2 = float(input('Enter Second Number: '))\n",
    "\n",
    "        if choice == 'Add':\n",
    "            print('Result: ', num1, '+', num2, '=', add(num1,num2))\n",
    "        elif choice == 'Subtract':\n",
    "            print('Result: ', num1, '-', num2, '=', subtract(num1, num2))\n",
    "        elif choice == 'Multiply':\n",
    "            print('Result: ', num1, '*', num2, '=', multiply(num1, num2))\n",
    "        elif choice == 'Divide':\n",
    "            print('Result: ', num1, '/', num2, '=', divide(num1, num2))\n",
    "    else:\n",
    "        print('This input is invalid...')\n",
    "        \n",
    "    next_calculation = input('Want to do another calculation? (yes/no): ')\n",
    "    if next_calculation == 'no':\n",
    "        break\n",
    "    \n"
   ]
  },
  {
   "cell_type": "code",
   "execution_count": null,
   "id": "ef655cab",
   "metadata": {},
   "outputs": [],
   "source": []
  },
  {
   "cell_type": "code",
   "execution_count": null,
   "id": "3ff708bb",
   "metadata": {},
   "outputs": [],
   "source": []
  },
  {
   "cell_type": "code",
   "execution_count": null,
   "id": "14c2179e",
   "metadata": {},
   "outputs": [],
   "source": []
  },
  {
   "cell_type": "code",
   "execution_count": null,
   "id": "71a8f5df",
   "metadata": {},
   "outputs": [],
   "source": []
  },
  {
   "cell_type": "code",
   "execution_count": null,
   "id": "c8fe9067",
   "metadata": {},
   "outputs": [],
   "source": []
  },
  {
   "cell_type": "code",
   "execution_count": null,
   "id": "29b4d03b",
   "metadata": {},
   "outputs": [],
   "source": []
  },
  {
   "cell_type": "code",
   "execution_count": null,
   "id": "0037c541",
   "metadata": {},
   "outputs": [],
   "source": []
  },
  {
   "cell_type": "code",
   "execution_count": null,
   "id": "388ff679",
   "metadata": {},
   "outputs": [],
   "source": []
  },
  {
   "cell_type": "code",
   "execution_count": null,
   "id": "d86ee077",
   "metadata": {},
   "outputs": [],
   "source": []
  },
  {
   "cell_type": "code",
   "execution_count": null,
   "id": "0ac78372",
   "metadata": {},
   "outputs": [],
   "source": []
  },
  {
   "cell_type": "code",
   "execution_count": null,
   "id": "599f2277",
   "metadata": {},
   "outputs": [],
   "source": []
  }
 ],
 "metadata": {
  "kernelspec": {
   "display_name": "Python 3 (ipykernel)",
   "language": "python",
   "name": "python3"
  },
  "language_info": {
   "codemirror_mode": {
    "name": "ipython",
    "version": 3
   },
   "file_extension": ".py",
   "mimetype": "text/x-python",
   "name": "python",
   "nbconvert_exporter": "python",
   "pygments_lexer": "ipython3",
   "version": "3.11.5"
  }
 },
 "nbformat": 4,
 "nbformat_minor": 5
}
